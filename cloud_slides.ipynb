{
 "cells": [
  {
   "cell_type": "markdown",
   "metadata": {
    "slideshow": {
     "slide_type": "slide"
    }
   },
   "source": [
    "# first step into the cloud \n",
    "Fast, easy and free(?)  \n",
    "Credits: http://fast.ai"
   ]
  },
  {
   "cell_type": "markdown",
   "metadata": {
    "slideshow": {
     "slide_type": "slide"
    }
   },
   "source": [
    "# few quick steps\n",
    "1. Register an account on Google Cloud\n",
    "2. Enable and set up billing\n",
    "3. Install Google's CLI/SDK\n",
    "4. Authenticate\n",
    "5. Provision your server\n",
    "6. Connect with ssh tunnel"
   ]
  },
  {
   "cell_type": "markdown",
   "metadata": {
    "slideshow": {
     "slide_type": "slide"
    }
   },
   "source": [
    "# 1. register an account\n",
    "https://console.cloud.google.com"
   ]
  },
  {
   "cell_type": "markdown",
   "metadata": {
    "slideshow": {
     "slide_type": "slide"
    }
   },
   "source": [
    "# 2. enable billing\n",
    "https://console.cloud.google.com/billing"
   ]
  },
  {
   "cell_type": "markdown",
   "metadata": {
    "slideshow": {
     "slide_type": "slide"
    }
   },
   "source": [
    "# 3. install Google's CLI/SDK (?)\n",
    "https://cloud.google.com/sdk/docs/quickstarts"
   ]
  },
  {
   "cell_type": "markdown",
   "metadata": {
    "slideshow": {
     "slide_type": "subslide"
    }
   },
   "source": [
    "```\n",
    "export CLOUD_SDK_REPO=\"cloud-sdk-$(lsb_release -c -s)\"\n",
    "\n",
    "echo \"deb http://packages.cloud.google.com/apt $CLOUD_SDK_REPO main\" | sudo tee -a /etc/apt/sources.list.d/google-cloud-sdk.list\n",
    "\n",
    "curl https://packages.cloud.google.com/apt/doc/apt-key.gpg | sudo apt-key add -\n",
    "\n",
    "sudo apt-get update && sudo apt-get install google-cloud-sdk\n",
    "```"
   ]
  },
  {
   "cell_type": "markdown",
   "metadata": {
    "slideshow": {
     "slide_type": "subslide"
    }
   },
   "source": [
    "```\n",
    "curl https://sdk.cloud.google.com | bash\n",
    "exec -l $SHELL\n",
    "```"
   ]
  },
  {
   "cell_type": "markdown",
   "metadata": {
    "slideshow": {
     "slide_type": "slide"
    }
   },
   "source": [
    "# 4. authenticate\n",
    "`gcloud init` or `gcloud auth login` to just log in without additional zone settings"
   ]
  },
  {
   "cell_type": "markdown",
   "metadata": {
    "slideshow": {
     "slide_type": "slide"
    }
   },
   "source": [
    "# 5. Provision your server\n",
    "```\n",
    "# export IMAGE_FAMILY=\"pytorch-1-0-cu92-experimental\"\n",
    "# export IMAGE_FAMILY=\"pytorch-latest-cu92\"\n",
    "export IMAGE_FAMILY=\"tf-latest-gpu\"\n",
    "export ZONE=\"us-west1-b\"\n",
    "export INSTANCE_NAME=\"aiap-gpu\"\n",
    "export INSTANCE_TYPE=\"n1-highmem-8\"\n",
    "\n",
    "gcloud compute instances create $INSTANCE_NAME \\\n",
    "        --zone=$ZONE \\\n",
    "        --image-family=$IMAGE_FAMILY \\\n",
    "        --image-project=deeplearning-platform-release \\\n",
    "        --maintenance-policy=TERMINATE \\\n",
    "        --accelerator=\"type=nvidia-tesla-p4,count=1\" \\\n",
    "        --machine-type=$INSTANCE_TYPE \\\n",
    "        --boot-disk-size=200GB \\\n",
    "        --metadata=\"install-nvidia-driver=True\" \\\n",
    "        --preemptible\n",
    "        ```\n",
    "https://cloud.google.com/preemptible-vms/"
   ]
  },
  {
   "cell_type": "markdown",
   "metadata": {
    "slideshow": {
     "slide_type": "slide"
    }
   },
   "source": [
    "# 6. SSH tunnel\n",
    "```\n",
    "gcloud compute ssh --zone=$ZONE jupyter@$INSTANCE_NAME -- -L 8080:localhost:8080\n",
    "gcloud compute ssh --zone=us-west1-b jupyter@aiap-gpu -- -L 8080:localhost:8080\n",
    "```"
   ]
  }
 ],
 "metadata": {
  "celltoolbar": "Slideshow",
  "kernelspec": {
   "display_name": "Python [default]",
   "language": "python",
   "name": "python3"
  },
  "language_info": {
   "codemirror_mode": {
    "name": "ipython",
    "version": 3
   },
   "file_extension": ".py",
   "mimetype": "text/x-python",
   "name": "python",
   "nbconvert_exporter": "python",
   "pygments_lexer": "ipython3",
   "version": "3.6.5"
  }
 },
 "nbformat": 4,
 "nbformat_minor": 2
}
